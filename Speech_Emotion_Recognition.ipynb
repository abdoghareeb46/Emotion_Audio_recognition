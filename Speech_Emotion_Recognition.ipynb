{
  "nbformat": 4,
  "nbformat_minor": 0,
  "metadata": {
    "colab": {
      "name": "Speech Emotion Recognition.ipynb",
      "provenance": [],
      "collapsed_sections": [],
      "mount_file_id": "1r58EyapF5KHLNXrDw-dWpel0KB2GqFT4",
      "authorship_tag": "ABX9TyMFA81izPG4x8jWU9amLAO9",
      "include_colab_link": true
    },
    "kernelspec": {
      "name": "python3",
      "display_name": "Python 3"
    }
  },
  "cells": [
    {
      "cell_type": "markdown",
      "metadata": {
        "id": "view-in-github",
        "colab_type": "text"
      },
      "source": [
        "<a href=\"https://colab.research.google.com/github/abdoghareeb46/Speech-Emotion-Recognition/blob/master/Speech_Emotion_Recognition.ipynb\" target=\"_parent\"><img src=\"https://colab.research.google.com/assets/colab-badge.svg\" alt=\"Open In Colab\"/></a>"
      ]
    },
    {
      "cell_type": "code",
      "metadata": {
        "id": "ZFk14abXOvwn",
        "colab_type": "code",
        "colab": {
          "resources": {
            "http://localhost:8080/nbextensions/google.colab/files.js": {
              "data": "Ly8gQ29weXJpZ2h0IDIwMTcgR29vZ2xlIExMQwovLwovLyBMaWNlbnNlZCB1bmRlciB0aGUgQXBhY2hlIExpY2Vuc2UsIFZlcnNpb24gMi4wICh0aGUgIkxpY2Vuc2UiKTsKLy8geW91IG1heSBub3QgdXNlIHRoaXMgZmlsZSBleGNlcHQgaW4gY29tcGxpYW5jZSB3aXRoIHRoZSBMaWNlbnNlLgovLyBZb3UgbWF5IG9idGFpbiBhIGNvcHkgb2YgdGhlIExpY2Vuc2UgYXQKLy8KLy8gICAgICBodHRwOi8vd3d3LmFwYWNoZS5vcmcvbGljZW5zZXMvTElDRU5TRS0yLjAKLy8KLy8gVW5sZXNzIHJlcXVpcmVkIGJ5IGFwcGxpY2FibGUgbGF3IG9yIGFncmVlZCB0byBpbiB3cml0aW5nLCBzb2Z0d2FyZQovLyBkaXN0cmlidXRlZCB1bmRlciB0aGUgTGljZW5zZSBpcyBkaXN0cmlidXRlZCBvbiBhbiAiQVMgSVMiIEJBU0lTLAovLyBXSVRIT1VUIFdBUlJBTlRJRVMgT1IgQ09ORElUSU9OUyBPRiBBTlkgS0lORCwgZWl0aGVyIGV4cHJlc3Mgb3IgaW1wbGllZC4KLy8gU2VlIHRoZSBMaWNlbnNlIGZvciB0aGUgc3BlY2lmaWMgbGFuZ3VhZ2UgZ292ZXJuaW5nIHBlcm1pc3Npb25zIGFuZAovLyBsaW1pdGF0aW9ucyB1bmRlciB0aGUgTGljZW5zZS4KCi8qKgogKiBAZmlsZW92ZXJ2aWV3IEhlbHBlcnMgZm9yIGdvb2dsZS5jb2xhYiBQeXRob24gbW9kdWxlLgogKi8KKGZ1bmN0aW9uKHNjb3BlKSB7CmZ1bmN0aW9uIHNwYW4odGV4dCwgc3R5bGVBdHRyaWJ1dGVzID0ge30pIHsKICBjb25zdCBlbGVtZW50ID0gZG9jdW1lbnQuY3JlYXRlRWxlbWVudCgnc3BhbicpOwogIGVsZW1lbnQudGV4dENvbnRlbnQgPSB0ZXh0OwogIGZvciAoY29uc3Qga2V5IG9mIE9iamVjdC5rZXlzKHN0eWxlQXR0cmlidXRlcykpIHsKICAgIGVsZW1lbnQuc3R5bGVba2V5XSA9IHN0eWxlQXR0cmlidXRlc1trZXldOwogIH0KICByZXR1cm4gZWxlbWVudDsKfQoKLy8gTWF4IG51bWJlciBvZiBieXRlcyB3aGljaCB3aWxsIGJlIHVwbG9hZGVkIGF0IGEgdGltZS4KY29uc3QgTUFYX1BBWUxPQURfU0laRSA9IDEwMCAqIDEwMjQ7Ci8vIE1heCBhbW91bnQgb2YgdGltZSB0byBibG9jayB3YWl0aW5nIGZvciB0aGUgdXNlci4KY29uc3QgRklMRV9DSEFOR0VfVElNRU9VVF9NUyA9IDMwICogMTAwMDsKCmZ1bmN0aW9uIF91cGxvYWRGaWxlcyhpbnB1dElkLCBvdXRwdXRJZCkgewogIGNvbnN0IHN0ZXBzID0gdXBsb2FkRmlsZXNTdGVwKGlucHV0SWQsIG91dHB1dElkKTsKICBjb25zdCBvdXRwdXRFbGVtZW50ID0gZG9jdW1lbnQuZ2V0RWxlbWVudEJ5SWQob3V0cHV0SWQpOwogIC8vIENhY2hlIHN0ZXBzIG9uIHRoZSBvdXRwdXRFbGVtZW50IHRvIG1ha2UgaXQgYXZhaWxhYmxlIGZvciB0aGUgbmV4dCBjYWxsCiAgLy8gdG8gdXBsb2FkRmlsZXNDb250aW51ZSBmcm9tIFB5dGhvbi4KICBvdXRwdXRFbGVtZW50LnN0ZXBzID0gc3RlcHM7CgogIHJldHVybiBfdXBsb2FkRmlsZXNDb250aW51ZShvdXRwdXRJZCk7Cn0KCi8vIFRoaXMgaXMgcm91Z2hseSBhbiBhc3luYyBnZW5lcmF0b3IgKG5vdCBzdXBwb3J0ZWQgaW4gdGhlIGJyb3dzZXIgeWV0KSwKLy8gd2hlcmUgdGhlcmUgYXJlIG11bHRpcGxlIGFzeW5jaHJvbm91cyBzdGVwcyBhbmQgdGhlIFB5dGhvbiBzaWRlIGlzIGdvaW5nCi8vIHRvIHBvbGwgZm9yIGNvbXBsZXRpb24gb2YgZWFjaCBzdGVwLgovLyBUaGlzIHVzZXMgYSBQcm9taXNlIHRvIGJsb2NrIHRoZSBweXRob24gc2lkZSBvbiBjb21wbGV0aW9uIG9mIGVhY2ggc3RlcCwKLy8gdGhlbiBwYXNzZXMgdGhlIHJlc3VsdCBvZiB0aGUgcHJldmlvdXMgc3RlcCBhcyB0aGUgaW5wdXQgdG8gdGhlIG5leHQgc3RlcC4KZnVuY3Rpb24gX3VwbG9hZEZpbGVzQ29udGludWUob3V0cHV0SWQpIHsKICBjb25zdCBvdXRwdXRFbGVtZW50ID0gZG9jdW1lbnQuZ2V0RWxlbWVudEJ5SWQob3V0cHV0SWQpOwogIGNvbnN0IHN0ZXBzID0gb3V0cHV0RWxlbWVudC5zdGVwczsKCiAgY29uc3QgbmV4dCA9IHN0ZXBzLm5leHQob3V0cHV0RWxlbWVudC5sYXN0UHJvbWlzZVZhbHVlKTsKICByZXR1cm4gUHJvbWlzZS5yZXNvbHZlKG5leHQudmFsdWUucHJvbWlzZSkudGhlbigodmFsdWUpID0+IHsKICAgIC8vIENhY2hlIHRoZSBsYXN0IHByb21pc2UgdmFsdWUgdG8gbWFrZSBpdCBhdmFpbGFibGUgdG8gdGhlIG5leHQKICAgIC8vIHN0ZXAgb2YgdGhlIGdlbmVyYXRvci4KICAgIG91dHB1dEVsZW1lbnQubGFzdFByb21pc2VWYWx1ZSA9IHZhbHVlOwogICAgcmV0dXJuIG5leHQudmFsdWUucmVzcG9uc2U7CiAgfSk7Cn0KCi8qKgogKiBHZW5lcmF0b3IgZnVuY3Rpb24gd2hpY2ggaXMgY2FsbGVkIGJldHdlZW4gZWFjaCBhc3luYyBzdGVwIG9mIHRoZSB1cGxvYWQKICogcHJvY2Vzcy4KICogQHBhcmFtIHtzdHJpbmd9IGlucHV0SWQgRWxlbWVudCBJRCBvZiB0aGUgaW5wdXQgZmlsZSBwaWNrZXIgZWxlbWVudC4KICogQHBhcmFtIHtzdHJpbmd9IG91dHB1dElkIEVsZW1lbnQgSUQgb2YgdGhlIG91dHB1dCBkaXNwbGF5LgogKiBAcmV0dXJuIHshSXRlcmFibGU8IU9iamVjdD59IEl0ZXJhYmxlIG9mIG5leHQgc3RlcHMuCiAqLwpmdW5jdGlvbiogdXBsb2FkRmlsZXNTdGVwKGlucHV0SWQsIG91dHB1dElkKSB7CiAgY29uc3QgaW5wdXRFbGVtZW50ID0gZG9jdW1lbnQuZ2V0RWxlbWVudEJ5SWQoaW5wdXRJZCk7CiAgaW5wdXRFbGVtZW50LmRpc2FibGVkID0gZmFsc2U7CgogIGNvbnN0IG91dHB1dEVsZW1lbnQgPSBkb2N1bWVudC5nZXRFbGVtZW50QnlJZChvdXRwdXRJZCk7CiAgb3V0cHV0RWxlbWVudC5pbm5lckhUTUwgPSAnJzsKCiAgY29uc3QgcGlja2VkUHJvbWlzZSA9IG5ldyBQcm9taXNlKChyZXNvbHZlKSA9PiB7CiAgICBpbnB1dEVsZW1lbnQuYWRkRXZlbnRMaXN0ZW5lcignY2hhbmdlJywgKGUpID0+IHsKICAgICAgcmVzb2x2ZShlLnRhcmdldC5maWxlcyk7CiAgICB9KTsKICB9KTsKCiAgY29uc3QgY2FuY2VsID0gZG9jdW1lbnQuY3JlYXRlRWxlbWVudCgnYnV0dG9uJyk7CiAgaW5wdXRFbGVtZW50LnBhcmVudEVsZW1lbnQuYXBwZW5kQ2hpbGQoY2FuY2VsKTsKICBjYW5jZWwudGV4dENvbnRlbnQgPSAnQ2FuY2VsIHVwbG9hZCc7CiAgY29uc3QgY2FuY2VsUHJvbWlzZSA9IG5ldyBQcm9taXNlKChyZXNvbHZlKSA9PiB7CiAgICBjYW5jZWwub25jbGljayA9ICgpID0+IHsKICAgICAgcmVzb2x2ZShudWxsKTsKICAgIH07CiAgfSk7CgogIC8vIENhbmNlbCB1cGxvYWQgaWYgdXNlciBoYXNuJ3QgcGlja2VkIGFueXRoaW5nIGluIHRpbWVvdXQuCiAgY29uc3QgdGltZW91dFByb21pc2UgPSBuZXcgUHJvbWlzZSgocmVzb2x2ZSkgPT4gewogICAgc2V0VGltZW91dCgoKSA9PiB7CiAgICAgIHJlc29sdmUobnVsbCk7CiAgICB9LCBGSUxFX0NIQU5HRV9USU1FT1VUX01TKTsKICB9KTsKCiAgLy8gV2FpdCBmb3IgdGhlIHVzZXIgdG8gcGljayB0aGUgZmlsZXMuCiAgY29uc3QgZmlsZXMgPSB5aWVsZCB7CiAgICBwcm9taXNlOiBQcm9taXNlLnJhY2UoW3BpY2tlZFByb21pc2UsIHRpbWVvdXRQcm9taXNlLCBjYW5jZWxQcm9taXNlXSksCiAgICByZXNwb25zZTogewogICAgICBhY3Rpb246ICdzdGFydGluZycsCiAgICB9CiAgfTsKCiAgaWYgKCFmaWxlcykgewogICAgcmV0dXJuIHsKICAgICAgcmVzcG9uc2U6IHsKICAgICAgICBhY3Rpb246ICdjb21wbGV0ZScsCiAgICAgIH0KICAgIH07CiAgfQoKICBjYW5jZWwucmVtb3ZlKCk7CgogIC8vIERpc2FibGUgdGhlIGlucHV0IGVsZW1lbnQgc2luY2UgZnVydGhlciBwaWNrcyBhcmUgbm90IGFsbG93ZWQuCiAgaW5wdXRFbGVtZW50LmRpc2FibGVkID0gdHJ1ZTsKCiAgZm9yIChjb25zdCBmaWxlIG9mIGZpbGVzKSB7CiAgICBjb25zdCBsaSA9IGRvY3VtZW50LmNyZWF0ZUVsZW1lbnQoJ2xpJyk7CiAgICBsaS5hcHBlbmQoc3BhbihmaWxlLm5hbWUsIHtmb250V2VpZ2h0OiAnYm9sZCd9KSk7CiAgICBsaS5hcHBlbmQoc3BhbigKICAgICAgICBgKCR7ZmlsZS50eXBlIHx8ICduL2EnfSkgLSAke2ZpbGUuc2l6ZX0gYnl0ZXMsIGAgKwogICAgICAgIGBsYXN0IG1vZGlmaWVkOiAkewogICAgICAgICAgICBmaWxlLmxhc3RNb2RpZmllZERhdGUgPyBmaWxlLmxhc3RNb2RpZmllZERhdGUudG9Mb2NhbGVEYXRlU3RyaW5nKCkgOgogICAgICAgICAgICAgICAgICAgICAgICAgICAgICAgICAgICAnbi9hJ30gLSBgKSk7CiAgICBjb25zdCBwZXJjZW50ID0gc3BhbignMCUgZG9uZScpOwogICAgbGkuYXBwZW5kQ2hpbGQocGVyY2VudCk7CgogICAgb3V0cHV0RWxlbWVudC5hcHBlbmRDaGlsZChsaSk7CgogICAgY29uc3QgZmlsZURhdGFQcm9taXNlID0gbmV3IFByb21pc2UoKHJlc29sdmUpID0+IHsKICAgICAgY29uc3QgcmVhZGVyID0gbmV3IEZpbGVSZWFkZXIoKTsKICAgICAgcmVhZGVyLm9ubG9hZCA9IChlKSA9PiB7CiAgICAgICAgcmVzb2x2ZShlLnRhcmdldC5yZXN1bHQpOwogICAgICB9OwogICAgICByZWFkZXIucmVhZEFzQXJyYXlCdWZmZXIoZmlsZSk7CiAgICB9KTsKICAgIC8vIFdhaXQgZm9yIHRoZSBkYXRhIHRvIGJlIHJlYWR5LgogICAgbGV0IGZpbGVEYXRhID0geWllbGQgewogICAgICBwcm9taXNlOiBmaWxlRGF0YVByb21pc2UsCiAgICAgIHJlc3BvbnNlOiB7CiAgICAgICAgYWN0aW9uOiAnY29udGludWUnLAogICAgICB9CiAgICB9OwoKICAgIC8vIFVzZSBhIGNodW5rZWQgc2VuZGluZyB0byBhdm9pZCBtZXNzYWdlIHNpemUgbGltaXRzLiBTZWUgYi82MjExNTY2MC4KICAgIGxldCBwb3NpdGlvbiA9IDA7CiAgICB3aGlsZSAocG9zaXRpb24gPCBmaWxlRGF0YS5ieXRlTGVuZ3RoKSB7CiAgICAgIGNvbnN0IGxlbmd0aCA9IE1hdGgubWluKGZpbGVEYXRhLmJ5dGVMZW5ndGggLSBwb3NpdGlvbiwgTUFYX1BBWUxPQURfU0laRSk7CiAgICAgIGNvbnN0IGNodW5rID0gbmV3IFVpbnQ4QXJyYXkoZmlsZURhdGEsIHBvc2l0aW9uLCBsZW5ndGgpOwogICAgICBwb3NpdGlvbiArPSBsZW5ndGg7CgogICAgICBjb25zdCBiYXNlNjQgPSBidG9hKFN0cmluZy5mcm9tQ2hhckNvZGUuYXBwbHkobnVsbCwgY2h1bmspKTsKICAgICAgeWllbGQgewogICAgICAgIHJlc3BvbnNlOiB7CiAgICAgICAgICBhY3Rpb246ICdhcHBlbmQnLAogICAgICAgICAgZmlsZTogZmlsZS5uYW1lLAogICAgICAgICAgZGF0YTogYmFzZTY0LAogICAgICAgIH0sCiAgICAgIH07CiAgICAgIHBlcmNlbnQudGV4dENvbnRlbnQgPQogICAgICAgICAgYCR7TWF0aC5yb3VuZCgocG9zaXRpb24gLyBmaWxlRGF0YS5ieXRlTGVuZ3RoKSAqIDEwMCl9JSBkb25lYDsKICAgIH0KICB9CgogIC8vIEFsbCBkb25lLgogIHlpZWxkIHsKICAgIHJlc3BvbnNlOiB7CiAgICAgIGFjdGlvbjogJ2NvbXBsZXRlJywKICAgIH0KICB9Owp9CgpzY29wZS5nb29nbGUgPSBzY29wZS5nb29nbGUgfHwge307CnNjb3BlLmdvb2dsZS5jb2xhYiA9IHNjb3BlLmdvb2dsZS5jb2xhYiB8fCB7fTsKc2NvcGUuZ29vZ2xlLmNvbGFiLl9maWxlcyA9IHsKICBfdXBsb2FkRmlsZXMsCiAgX3VwbG9hZEZpbGVzQ29udGludWUsCn07Cn0pKHNlbGYpOwo=",
              "ok": true,
              "headers": [
                [
                  "content-type",
                  "application/javascript"
                ]
              ],
              "status": 200,
              "status_text": ""
            }
          },
          "base_uri": "https://localhost:8080/",
          "height": 57
        },
        "outputId": "bff81bec-e7bb-4afb-bffa-154668813962"
      },
      "source": [
        "from google.colab import files\n",
        "files.upload()"
      ],
      "execution_count": 48,
      "outputs": [
        {
          "output_type": "display_data",
          "data": {
            "text/html": [
              "\n",
              "     <input type=\"file\" id=\"files-6eb3ab85-8d86-4ea1-add1-3580a9d9c9ca\" name=\"files[]\" multiple disabled />\n",
              "     <output id=\"result-6eb3ab85-8d86-4ea1-add1-3580a9d9c9ca\">\n",
              "      Upload widget is only available when the cell has been executed in the\n",
              "      current browser session. Please rerun this cell to enable.\n",
              "      </output>\n",
              "      <script src=\"/nbextensions/google.colab/files.js\"></script> "
            ],
            "text/plain": [
              "<IPython.core.display.HTML object>"
            ]
          },
          "metadata": {
            "tags": []
          }
        },
        {
          "output_type": "execute_result",
          "data": {
            "text/plain": [
              "{}"
            ]
          },
          "metadata": {
            "tags": []
          },
          "execution_count": 48
        }
      ]
    },
    {
      "cell_type": "code",
      "metadata": {
        "id": "p2C7GYzSPb-I",
        "colab_type": "code",
        "colab": {}
      },
      "source": [
        "!pip install -q kaggle"
      ],
      "execution_count": 0,
      "outputs": []
    },
    {
      "cell_type": "code",
      "metadata": {
        "id": "xuAl-22FPlz1",
        "colab_type": "code",
        "colab": {}
      },
      "source": [
        "!mkdir -p ~/.kaggle"
      ],
      "execution_count": 0,
      "outputs": []
    },
    {
      "cell_type": "code",
      "metadata": {
        "id": "F8lmzb4aPtQ9",
        "colab_type": "code",
        "colab": {}
      },
      "source": [
        "!cp kaggle.json ~/.kaggle/"
      ],
      "execution_count": 0,
      "outputs": []
    },
    {
      "cell_type": "code",
      "metadata": {
        "id": "LLnPQxEeRF68",
        "colab_type": "code",
        "colab": {}
      },
      "source": [
        "! chmod 600 ~/.kaggle/kaggle.json"
      ],
      "execution_count": 0,
      "outputs": []
    },
    {
      "cell_type": "code",
      "metadata": {
        "id": "zuC3_fnCPvcg",
        "colab_type": "code",
        "outputId": "e4e7c940-6150-41cf-bab5-4589b473322f",
        "colab": {
          "base_uri": "https://localhost:8080/",
          "height": 68
        }
      },
      "source": [
        "!kaggle datasets download -d suso172/arabic-natural-audio-dataset"
      ],
      "execution_count": 0,
      "outputs": [
        {
          "output_type": "stream",
          "text": [
            "Downloading arabic-natural-audio-dataset.zip to /content\n",
            " 99% 556M/560M [00:04<00:00, 127MB/s]\n",
            "100% 560M/560M [00:04<00:00, 127MB/s]\n"
          ],
          "name": "stdout"
        }
      ]
    },
    {
      "cell_type": "code",
      "metadata": {
        "id": "PgMuG6IkSGqC",
        "colab_type": "code",
        "outputId": "67ec661a-1c00-4483-c582-a5dbad0187ad",
        "colab": {
          "base_uri": "https://localhost:8080/",
          "height": 34
        }
      },
      "source": [
        "!ls"
      ],
      "execution_count": 0,
      "outputs": [
        {
          "output_type": "stream",
          "text": [
            "arabic-natural-audio-dataset.zip  data\tdrive  kaggle.json  sample_data\n"
          ],
          "name": "stdout"
        }
      ]
    },
    {
      "cell_type": "code",
      "metadata": {
        "id": "tMr64IAmPz9m",
        "colab_type": "code",
        "colab": {}
      },
      "source": [
        "! mkdir data"
      ],
      "execution_count": 0,
      "outputs": []
    },
    {
      "cell_type": "code",
      "metadata": {
        "id": "6f_a2Ym8SAhw",
        "colab_type": "code",
        "colab": {}
      },
      "source": [
        "! unzip arabic-natural-audio-dataset.zip -d data"
      ],
      "execution_count": 0,
      "outputs": []
    },
    {
      "cell_type": "code",
      "metadata": {
        "id": "WZ5LX9F_SZUG",
        "colab_type": "code",
        "outputId": "588e04a6-f639-4181-ca8c-8c5ba1ec4f77",
        "colab": {
          "base_uri": "https://localhost:8080/",
          "height": 272
        }
      },
      "source": [
        "!pip install SoundFile\n",
        "!pip install librosa"
      ],
      "execution_count": 0,
      "outputs": [
        {
          "output_type": "stream",
          "text": [
            "Requirement already satisfied: SoundFile in /usr/local/lib/python3.6/dist-packages (0.10.3.post1)\n",
            "Requirement already satisfied: cffi>=1.0 in /usr/local/lib/python3.6/dist-packages (from SoundFile) (1.14.0)\n",
            "Requirement already satisfied: pycparser in /usr/local/lib/python3.6/dist-packages (from cffi>=1.0->SoundFile) (2.20)\n",
            "Requirement already satisfied: librosa in /usr/local/lib/python3.6/dist-packages (0.6.3)\n",
            "Requirement already satisfied: six>=1.3 in /usr/local/lib/python3.6/dist-packages (from librosa) (1.12.0)\n",
            "Requirement already satisfied: scipy>=1.0.0 in /usr/local/lib/python3.6/dist-packages (from librosa) (1.4.1)\n",
            "Requirement already satisfied: scikit-learn!=0.19.0,>=0.14.0 in /usr/local/lib/python3.6/dist-packages (from librosa) (0.22.2.post1)\n",
            "Requirement already satisfied: resampy>=0.2.0 in /usr/local/lib/python3.6/dist-packages (from librosa) (0.2.2)\n",
            "Requirement already satisfied: audioread>=2.0.0 in /usr/local/lib/python3.6/dist-packages (from librosa) (2.1.8)\n",
            "Requirement already satisfied: joblib>=0.12 in /usr/local/lib/python3.6/dist-packages (from librosa) (0.15.1)\n",
            "Requirement already satisfied: numba>=0.38.0 in /usr/local/lib/python3.6/dist-packages (from librosa) (0.48.0)\n",
            "Requirement already satisfied: decorator>=3.0.0 in /usr/local/lib/python3.6/dist-packages (from librosa) (4.4.2)\n",
            "Requirement already satisfied: numpy>=1.8.0 in /usr/local/lib/python3.6/dist-packages (from librosa) (1.18.4)\n",
            "Requirement already satisfied: setuptools in /usr/local/lib/python3.6/dist-packages (from numba>=0.38.0->librosa) (46.3.0)\n",
            "Requirement already satisfied: llvmlite<0.32.0,>=0.31.0dev0 in /usr/local/lib/python3.6/dist-packages (from numba>=0.38.0->librosa) (0.31.0)\n"
          ],
          "name": "stdout"
        }
      ]
    },
    {
      "cell_type": "code",
      "metadata": {
        "id": "S4hc2-wSSjCV",
        "colab_type": "code",
        "colab": {}
      },
      "source": [
        "import numpy as np\n",
        "import pandas as pd\n",
        "import librosa # to extract speech features\n",
        "import glob\n",
        "import os\n",
        "import pickle # to save model after training\n",
        "from sklearn.model_selection import train_test_split # for splitting training and testing\n",
        "from sklearn.neural_network import MLPClassifier # multi-layer perceptron model\n",
        "from sklearn.metrics import accuracy_score,f1_score,confusion_matrix,classification_report # to measure how good we are\n",
        "from sklearn.preprocessing import LabelEncoder\n"
      ],
      "execution_count": 0,
      "outputs": []
    },
    {
      "cell_type": "code",
      "metadata": {
        "id": "rdBZDoJkTA38",
        "colab_type": "code",
        "colab": {}
      },
      "source": [
        "def extract_feature(file_name, **kwargs):\n",
        "    \"\"\"\n",
        "    Extract feature from audio file `file_name`\n",
        "        Features supported:\n",
        "            - MFCC (mfcc)\n",
        "            - Chroma (chroma)\n",
        "            - MEL Spectrogram Frequency (mel)\n",
        "            - Contrast (contrast)\n",
        "            - Tonnetz (tonnetz)\n",
        "        e.g:\n",
        "        `features = extract_feature(path, mel=True, mfcc=True)`\n",
        "    \"\"\"\n",
        "    mfcc = kwargs.get(\"mfcc\")\n",
        "    chroma = kwargs.get(\"chroma\")\n",
        "    mel = kwargs.get(\"mel\")\n",
        "    contrast = kwargs.get(\"contrast\")\n",
        "    tonnetz = kwargs.get(\"tonnetz\")\n",
        "    X,sample_rate=librosa.load(file_name)\n",
        "    if chroma or contrast:\n",
        "        stft = np.abs(librosa.stft(X))\n",
        "    result = np.array([])\n",
        "    if mfcc:\n",
        "        mfccs = np.mean(librosa.feature.mfcc(y=X, sr=sample_rate, n_mfcc=40).T, axis=0)\n",
        "        result = np.hstack((result, mfccs))\n",
        "    if chroma:\n",
        "        chroma = np.mean(librosa.feature.chroma_stft(S=stft, sr=sample_rate).T,axis=0)\n",
        "        result = np.hstack((result, chroma))\n",
        "    if mel:\n",
        "        mel = np.mean(librosa.feature.melspectrogram(X, sr=sample_rate).T,axis=0)\n",
        "        result = np.hstack((result, mel))\n",
        "    if contrast:\n",
        "        contrast = np.mean(librosa.feature.spectral_contrast(S=stft, sr=sample_rate).T,axis=0)\n",
        "        result = np.hstack((result, contrast))\n",
        "    if tonnetz:\n",
        "        tonnetz = np.mean(librosa.feature.tonnetz(y=librosa.effects.harmonic(X), sr=sample_rate).T,axis=0)\n",
        "        result = np.hstack((result, tonnetz))\n",
        "    return result"
      ],
      "execution_count": 0,
      "outputs": []
    },
    {
      "cell_type": "code",
      "metadata": {
        "id": "Ftp_UI2aTbIR",
        "colab_type": "code",
        "outputId": "38209db5-a33d-41dc-cccb-4ee6291312a7",
        "colab": {
          "base_uri": "https://localhost:8080/",
          "height": 68
        }
      },
      "source": [
        "!ls /content/data/"
      ],
      "execution_count": 51,
      "outputs": [
        {
          "output_type": "stream",
          "text": [
            "1sec_segmented_part1  ANAD.csv\t\t     V1.wav  V4.wav  V7.wav\n",
            "1sec_segmented_part2  ANAD_Normalized.csv    V2.wav  V5.wav  V8.wav\n",
            "1sec_segmented_part3  caller_Reciever_turns  V3.wav  V6.wav\n"
          ],
          "name": "stdout"
        }
      ]
    },
    {
      "cell_type": "code",
      "metadata": {
        "id": "W1vgxX_FgU32",
        "colab_type": "code",
        "colab": {}
      },
      "source": [
        "def load_data():\n",
        "  data=pd.read_csv(\"/content/data/ANAD.csv\")\n",
        "  data=data.iloc[:,[0,1]].copy()\n",
        "  data[\"name\"]=data[\"name\"].apply(lambda x:x.replace(\"'\",\"\"))\n",
        "  data.columns=[\"name\",\"emo\"]\n",
        "  files = glob.glob(\"/content/data/1sec_segmented_part1/1sec_segmented_part1/*.wav\")+\\\n",
        "  glob.glob(\"/content/data/1sec_segmented_part2/1sec_segmented_part2/*.wav\")+\\\n",
        "  glob.glob(\"/content/data/1sec_segmented_part3/1sec_segmented_part3/*.wav\")\n",
        "  names=[f.split(\"/\")[-1] for f in files]\n",
        "  emo_=[]\n",
        "  for i in names:\n",
        "    try:\n",
        "      emo_.append(data[data[\"name\"]==i][\"emo\"].values[0])\n",
        "    except:\n",
        "      emo_.append(np.nan)\n",
        "  \n",
        "  full_data=pd.DataFrame([files,emo_]).T\n",
        "  full_data.columns=[\"filePath\",\"labels\"]\n",
        "  full_data.dropna(inplace=True)\n",
        "  return full_data\n",
        "\n",
        "\n",
        "def to_features():\n",
        "  full_data=load_data()\n",
        "  X=[extract_feature(e, mfcc=True, chroma=True, mel=True,contrast=True) for e in full_data[\"filePath\"].values]\n",
        "  X=np.array(X)\n",
        "  print(\"features shape\",X.shape)\n",
        "  lb=LabelEncoder()\n",
        "  labels=lb.fit_transform(full_data[\"labels\"])\n",
        "  X_train, X_test, y_train, y_test=train_test_split(X, labels, test_size=30, random_state=45)\n",
        "  return  X_train, X_test, y_train, y_test\n",
        "\n",
        "def model_training():\n",
        "  X_train, X_test, y_train, y_test=to_features()\n",
        "  model_params = {\n",
        "      'alpha': 0.0001,\n",
        "      'batch_size': 64,\n",
        "      'epsilon': 1e-08, \n",
        "      'hidden_layer_sizes': (512, 256, 128), \n",
        "      'learning_rate': 'adaptive', \n",
        "      'max_iter': 500}\n",
        "\n",
        "  model = MLPClassifier(**model_params)\n",
        "  model.fit(X_train, y_train)\n",
        "  return model\n"
      ],
      "execution_count": 0,
      "outputs": []
    },
    {
      "cell_type": "markdown",
      "metadata": {
        "id": "zeuz3cEkgx7Y",
        "colab_type": "text"
      },
      "source": [
        "#### Data\n",
        "\n",
        "![image.png](data:image/png;base64,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)\n",
        "\n",
        "#### Data After adding path for each file name \n",
        "![image.png](data:image/png;base64,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)"
      ]
    },
    {
      "cell_type": "code",
      "metadata": {
        "id": "LqjH_L_qjlpm",
        "colab_type": "code",
        "colab": {
          "base_uri": "https://localhost:8080/",
          "height": 34
        },
        "outputId": "7cb3f95d-21a7-4a2a-cb2c-5e13b9fdc5fb"
      },
      "source": [
        "model=model_training()"
      ],
      "execution_count": 59,
      "outputs": [
        {
          "output_type": "stream",
          "text": [
            "features shape (1334, 187)\n"
          ],
          "name": "stdout"
        }
      ]
    },
    {
      "cell_type": "code",
      "metadata": {
        "id": "izjf-OsBkF95",
        "colab_type": "code",
        "colab": {
          "base_uri": "https://localhost:8080/",
          "height": 51
        },
        "outputId": "f386fcd0-0302-4b32-8d8b-3bc107ee782a"
      },
      "source": [
        "y_pred = model.predict(X_test)\n",
        "accuracy = accuracy_score(y_test,y_pred)\n",
        "print(\"Accuracy: {:.2f}%\".format(accuracy*100))\n",
        "print(f1_score(y_test,y_pred,average=None))"
      ],
      "execution_count": 60,
      "outputs": [
        {
          "output_type": "stream",
          "text": [
            "Accuracy: 96.67%\n",
            "[0.96       1.         0.85714286]\n"
          ],
          "name": "stdout"
        }
      ]
    }
  ]
}