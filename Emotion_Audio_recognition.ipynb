{
  "nbformat": 4,
  "nbformat_minor": 0,
  "metadata": {
    "colab": {
      "name": "Emotion Audio recognition.ipynb",
      "provenance": [],
      "collapsed_sections": [],
      "mount_file_id": "1r58EyapF5KHLNXrDw-dWpel0KB2GqFT4",
      "authorship_tag": "ABX9TyOslcK+qc8VwJtr6kCCH2YX",
      "include_colab_link": true
    },
    "kernelspec": {
      "name": "python3",
      "display_name": "Python 3"
    }
  },
  "cells": [
    {
      "cell_type": "markdown",
      "metadata": {
        "id": "view-in-github",
        "colab_type": "text"
      },
      "source": [
        "<a href=\"https://colab.research.google.com/github/abdoghareeb46/Emotion_Audio_recognition/blob/master/Emotion_Audio_recognition.ipynb\" target=\"_parent\"><img src=\"https://colab.research.google.com/assets/colab-badge.svg\" alt=\"Open In Colab\"/></a>"
      ]
    },
    {
      "cell_type": "code",
      "metadata": {
        "id": "ZFk14abXOvwn",
        "colab_type": "code",
        "colab": {}
      },
      "source": [
        "from google.colab import files\n",
        "files.upload()"
      ],
      "execution_count": 0,
      "outputs": []
    },
    {
      "cell_type": "code",
      "metadata": {
        "id": "p2C7GYzSPb-I",
        "colab_type": "code",
        "colab": {}
      },
      "source": [
        "!pip install -q kaggle"
      ],
      "execution_count": 0,
      "outputs": []
    },
    {
      "cell_type": "code",
      "metadata": {
        "id": "xuAl-22FPlz1",
        "colab_type": "code",
        "colab": {}
      },
      "source": [
        "!mkdir -p ~/.kaggle"
      ],
      "execution_count": 0,
      "outputs": []
    },
    {
      "cell_type": "code",
      "metadata": {
        "id": "F8lmzb4aPtQ9",
        "colab_type": "code",
        "colab": {}
      },
      "source": [
        "!cp kaggle.json ~/.kaggle/"
      ],
      "execution_count": 0,
      "outputs": []
    },
    {
      "cell_type": "code",
      "metadata": {
        "id": "LLnPQxEeRF68",
        "colab_type": "code",
        "colab": {}
      },
      "source": [
        "! chmod 600 ~/.kaggle/kaggle.json"
      ],
      "execution_count": 0,
      "outputs": []
    },
    {
      "cell_type": "code",
      "metadata": {
        "id": "zuC3_fnCPvcg",
        "colab_type": "code",
        "outputId": "518e6e14-14fc-47ae-dca2-75ea3f1c6343",
        "colab": {
          "base_uri": "https://localhost:8080/",
          "height": 68
        }
      },
      "source": [
        "!kaggle datasets download -d suso172/arabic-natural-audio-dataset"
      ],
      "execution_count": 0,
      "outputs": [
        {
          "output_type": "stream",
          "text": [
            "Downloading arabic-natural-audio-dataset.zip to /content\n",
            " 98% 548M/560M [00:13<00:00, 23.8MB/s]\n",
            "100% 560M/560M [00:13<00:00, 43.6MB/s]\n"
          ],
          "name": "stdout"
        }
      ]
    },
    {
      "cell_type": "code",
      "metadata": {
        "id": "PgMuG6IkSGqC",
        "colab_type": "code",
        "outputId": "924ddf7a-88c9-4a46-b8db-ee290eacd66a",
        "colab": {
          "base_uri": "https://localhost:8080/",
          "height": 34
        }
      },
      "source": [
        "!ls"
      ],
      "execution_count": 0,
      "outputs": [
        {
          "output_type": "stream",
          "text": [
            "arabic-natural-audio-dataset.zip  data\tdrive  kaggle.json  sample_data\n"
          ],
          "name": "stdout"
        }
      ]
    },
    {
      "cell_type": "code",
      "metadata": {
        "id": "tMr64IAmPz9m",
        "colab_type": "code",
        "colab": {}
      },
      "source": [
        "! mkdir data"
      ],
      "execution_count": 0,
      "outputs": []
    },
    {
      "cell_type": "code",
      "metadata": {
        "id": "6f_a2Ym8SAhw",
        "colab_type": "code",
        "colab": {}
      },
      "source": [
        "! unzip arabic-natural-audio-dataset.zip -d data"
      ],
      "execution_count": 0,
      "outputs": []
    },
    {
      "cell_type": "code",
      "metadata": {
        "id": "WZ5LX9F_SZUG",
        "colab_type": "code",
        "colab": {}
      },
      "source": [
        "!pip install SoundFile\n",
        "!pip install librosa"
      ],
      "execution_count": 0,
      "outputs": []
    },
    {
      "cell_type": "code",
      "metadata": {
        "id": "S4hc2-wSSjCV",
        "colab_type": "code",
        "colab": {}
      },
      "source": [
        "import numpy as np\n",
        "import pandas as pd\n",
        "import librosa # to extract speech features\n",
        "import glob\n",
        "import os\n",
        "import pickle # to save model after training\n",
        "from sklearn.model_selection import train_test_split # for splitting training and testing\n",
        "from sklearn.neural_network import MLPClassifier # multi-layer perceptron model\n",
        "from sklearn.metrics import accuracy_score # to measure how good we are"
      ],
      "execution_count": 0,
      "outputs": []
    },
    {
      "cell_type": "code",
      "metadata": {
        "id": "rdBZDoJkTA38",
        "colab_type": "code",
        "colab": {}
      },
      "source": [
        "def extract_feature(file_name, **kwargs):\n",
        "    \"\"\"\n",
        "    Extract feature from audio file `file_name`\n",
        "        Features supported:\n",
        "            - MFCC (mfcc)\n",
        "            - Chroma (chroma)\n",
        "            - MEL Spectrogram Frequency (mel)\n",
        "            - Contrast (contrast)\n",
        "            - Tonnetz (tonnetz)\n",
        "        e.g:\n",
        "        `features = extract_feature(path, mel=True, mfcc=True)`\n",
        "    \"\"\"\n",
        "    mfcc = kwargs.get(\"mfcc\")\n",
        "    chroma = kwargs.get(\"chroma\")\n",
        "    mel = kwargs.get(\"mel\")\n",
        "    contrast = kwargs.get(\"contrast\")\n",
        "    tonnetz = kwargs.get(\"tonnetz\")\n",
        "    X,sample_rate=librosa.load(file_name)\n",
        "    if chroma or contrast:\n",
        "        stft = np.abs(librosa.stft(X))\n",
        "    result = np.array([])\n",
        "    if mfcc:\n",
        "        mfccs = np.mean(librosa.feature.mfcc(y=X, sr=sample_rate, n_mfcc=40).T, axis=0)\n",
        "        result = np.hstack((result, mfccs))\n",
        "    if chroma:\n",
        "        chroma = np.mean(librosa.feature.chroma_stft(S=stft, sr=sample_rate).T,axis=0)\n",
        "        result = np.hstack((result, chroma))\n",
        "    if mel:\n",
        "        mel = np.mean(librosa.feature.melspectrogram(X, sr=sample_rate).T,axis=0)\n",
        "        result = np.hstack((result, mel))\n",
        "    if contrast:\n",
        "        contrast = np.mean(librosa.feature.spectral_contrast(S=stft, sr=sample_rate).T,axis=0)\n",
        "        result = np.hstack((result, contrast))\n",
        "    if tonnetz:\n",
        "        tonnetz = np.mean(librosa.feature.tonnetz(y=librosa.effects.harmonic(X), sr=sample_rate).T,axis=0)\n",
        "        result = np.hstack((result, tonnetz))\n",
        "    return result"
      ],
      "execution_count": 0,
      "outputs": []
    },
    {
      "cell_type": "code",
      "metadata": {
        "id": "Ftp_UI2aTbIR",
        "colab_type": "code",
        "outputId": "dbb0774c-d0c7-4263-e43e-33eeb35a4058",
        "colab": {
          "base_uri": "https://localhost:8080/",
          "height": 68
        }
      },
      "source": [
        "!ls /content/data/"
      ],
      "execution_count": 0,
      "outputs": [
        {
          "output_type": "stream",
          "text": [
            "1sec_segmented_part1  ANAD.csv\t\t     V1.wav  V4.wav  V7.wav\n",
            "1sec_segmented_part2  ANAD_Normalized.csv    V2.wav  V5.wav  V8.wav\n",
            "1sec_segmented_part3  caller_Reciever_turns  V3.wav  V6.wav\n"
          ],
          "name": "stdout"
        }
      ]
    },
    {
      "cell_type": "code",
      "metadata": {
        "id": "xNHp3tGDTw0l",
        "colab_type": "code",
        "colab": {}
      },
      "source": [
        "data=pd.read_csv(\"/content/data/ANAD.csv\")\n",
        "data=data.iloc[:,[0,1]].copy()"
      ],
      "execution_count": 0,
      "outputs": []
    },
    {
      "cell_type": "code",
      "metadata": {
        "id": "kpn2RM9fULrN",
        "colab_type": "code",
        "outputId": "5c87d11b-9ab7-4042-d70b-768a77b91faf",
        "colab": {
          "base_uri": "https://localhost:8080/",
          "height": 204
        }
      },
      "source": [
        "data[\"name\"]=data[\"name\"].apply(lambda x:x.replace(\"'\",\"\"))\n",
        "data.head()"
      ],
      "execution_count": 0,
      "outputs": [
        {
          "output_type": "execute_result",
          "data": {
            "text/html": [
              "<div>\n",
              "<style scoped>\n",
              "    .dataframe tbody tr th:only-of-type {\n",
              "        vertical-align: middle;\n",
              "    }\n",
              "\n",
              "    .dataframe tbody tr th {\n",
              "        vertical-align: top;\n",
              "    }\n",
              "\n",
              "    .dataframe thead th {\n",
              "        text-align: right;\n",
              "    }\n",
              "</style>\n",
              "<table border=\"1\" class=\"dataframe\">\n",
              "  <thead>\n",
              "    <tr style=\"text-align: right;\">\n",
              "      <th></th>\n",
              "      <th>name</th>\n",
              "      <th>Emotion</th>\n",
              "    </tr>\n",
              "  </thead>\n",
              "  <tbody>\n",
              "    <tr>\n",
              "      <th>0</th>\n",
              "      <td>V2_1 (1).wav</td>\n",
              "      <td>surprised</td>\n",
              "    </tr>\n",
              "    <tr>\n",
              "      <th>1</th>\n",
              "      <td>V2_1 (2).wav</td>\n",
              "      <td>surprised</td>\n",
              "    </tr>\n",
              "    <tr>\n",
              "      <th>2</th>\n",
              "      <td>V2_1 (3).wav</td>\n",
              "      <td>surprised</td>\n",
              "    </tr>\n",
              "    <tr>\n",
              "      <th>3</th>\n",
              "      <td>V2_1 (4).wav</td>\n",
              "      <td>surprised</td>\n",
              "    </tr>\n",
              "    <tr>\n",
              "      <th>4</th>\n",
              "      <td>V2_1 (5).wav</td>\n",
              "      <td>surprised</td>\n",
              "    </tr>\n",
              "  </tbody>\n",
              "</table>\n",
              "</div>"
            ],
            "text/plain": [
              "           name   Emotion \n",
              "0  V2_1 (1).wav  surprised\n",
              "1  V2_1 (2).wav  surprised\n",
              "2  V2_1 (3).wav  surprised\n",
              "3  V2_1 (4).wav  surprised\n",
              "4  V2_1 (5).wav  surprised"
            ]
          },
          "metadata": {
            "tags": []
          },
          "execution_count": 4
        }
      ]
    },
    {
      "cell_type": "code",
      "metadata": {
        "id": "7BPk4P5VWTwO",
        "colab_type": "code",
        "colab": {}
      },
      "source": [
        "data.columns=[\"name\",\"emo\"]"
      ],
      "execution_count": 0,
      "outputs": []
    },
    {
      "cell_type": "code",
      "metadata": {
        "id": "Q6vmK6xKT_-k",
        "colab_type": "code",
        "outputId": "9eb92463-0622-4c1e-d080-bc0966df57ef",
        "colab": {
          "base_uri": "https://localhost:8080/",
          "height": 68
        }
      },
      "source": [
        "!ls /content/data"
      ],
      "execution_count": 0,
      "outputs": [
        {
          "output_type": "stream",
          "text": [
            "1sec_segmented_part1  ANAD.csv\t\t     V1.wav  V4.wav  V7.wav\n",
            "1sec_segmented_part2  ANAD_Normalized.csv    V2.wav  V5.wav  V8.wav\n",
            "1sec_segmented_part3  caller_Reciever_turns  V3.wav  V6.wav\n"
          ],
          "name": "stdout"
        }
      ]
    },
    {
      "cell_type": "code",
      "metadata": {
        "id": "GXpXOItSTFzs",
        "colab_type": "code",
        "colab": {}
      },
      "source": [
        "files = glob.glob(\"/content/data/1sec_segmented_part1/1sec_segmented_part1/*.wav\")+glob.glob(\"/content/data/1sec_segmented_part2/1sec_segmented_part2/*.wav\")+ glob.glob(\"/content/data/1sec_segmented_part3/1sec_segmented_part3/*.wav\")"
      ],
      "execution_count": 0,
      "outputs": []
    },
    {
      "cell_type": "code",
      "metadata": {
        "id": "sxpXGjOUee6v",
        "colab_type": "code",
        "outputId": "4a41d95b-8b38-4756-a151-0f3442c15084",
        "colab": {
          "base_uri": "https://localhost:8080/",
          "height": 34
        }
      },
      "source": [
        "len(files)"
      ],
      "execution_count": 0,
      "outputs": [
        {
          "output_type": "execute_result",
          "data": {
            "text/plain": [
              "1420"
            ]
          },
          "metadata": {
            "tags": []
          },
          "execution_count": 54
        }
      ]
    },
    {
      "cell_type": "code",
      "metadata": {
        "id": "WLQMYt4VVdRD",
        "colab_type": "code",
        "colab": {}
      },
      "source": [
        "names=[]\n",
        "for f in files:\n",
        "  names.append(f.split(\"/\")[-1])"
      ],
      "execution_count": 0,
      "outputs": []
    },
    {
      "cell_type": "code",
      "metadata": {
        "id": "HsCh7_ZeVexT",
        "colab_type": "code",
        "colab": {}
      },
      "source": [
        "emo_=[]\n",
        "for i in names:\n",
        "  try:\n",
        "    emo_.append(data[data[\"name\"]==i][\"emo\"].values[0])\n",
        "  except:\n",
        "    emo_.append(np.nan)"
      ],
      "execution_count": 0,
      "outputs": []
    },
    {
      "cell_type": "code",
      "metadata": {
        "id": "Gkp-NEV8fINb",
        "colab_type": "code",
        "outputId": "9dd076ca-4d43-459f-c1d8-62617322c091",
        "colab": {
          "base_uri": "https://localhost:8080/",
          "height": 204
        }
      },
      "source": [
        "full_data=pd.DataFrame([files,emo_]).T\n",
        "full_data.columns=[\"filePath\",\"labels\"]\n",
        "full_data.head()"
      ],
      "execution_count": 0,
      "outputs": [
        {
          "output_type": "execute_result",
          "data": {
            "text/html": [
              "<div>\n",
              "<style scoped>\n",
              "    .dataframe tbody tr th:only-of-type {\n",
              "        vertical-align: middle;\n",
              "    }\n",
              "\n",
              "    .dataframe tbody tr th {\n",
              "        vertical-align: top;\n",
              "    }\n",
              "\n",
              "    .dataframe thead th {\n",
              "        text-align: right;\n",
              "    }\n",
              "</style>\n",
              "<table border=\"1\" class=\"dataframe\">\n",
              "  <thead>\n",
              "    <tr style=\"text-align: right;\">\n",
              "      <th></th>\n",
              "      <th>filePath</th>\n",
              "      <th>labels</th>\n",
              "    </tr>\n",
              "  </thead>\n",
              "  <tbody>\n",
              "    <tr>\n",
              "      <th>0</th>\n",
              "      <td>/content/data/1sec_segmented_part1/1sec_segmen...</td>\n",
              "      <td>surprised</td>\n",
              "    </tr>\n",
              "    <tr>\n",
              "      <th>1</th>\n",
              "      <td>/content/data/1sec_segmented_part1/1sec_segmen...</td>\n",
              "      <td>happy</td>\n",
              "    </tr>\n",
              "    <tr>\n",
              "      <th>2</th>\n",
              "      <td>/content/data/1sec_segmented_part1/1sec_segmen...</td>\n",
              "      <td>happy</td>\n",
              "    </tr>\n",
              "    <tr>\n",
              "      <th>3</th>\n",
              "      <td>/content/data/1sec_segmented_part1/1sec_segmen...</td>\n",
              "      <td>happy</td>\n",
              "    </tr>\n",
              "    <tr>\n",
              "      <th>4</th>\n",
              "      <td>/content/data/1sec_segmented_part1/1sec_segmen...</td>\n",
              "      <td>happy</td>\n",
              "    </tr>\n",
              "  </tbody>\n",
              "</table>\n",
              "</div>"
            ],
            "text/plain": [
              "                                            filePath     labels\n",
              "0  /content/data/1sec_segmented_part1/1sec_segmen...  surprised\n",
              "1  /content/data/1sec_segmented_part1/1sec_segmen...      happy\n",
              "2  /content/data/1sec_segmented_part1/1sec_segmen...      happy\n",
              "3  /content/data/1sec_segmented_part1/1sec_segmen...      happy\n",
              "4  /content/data/1sec_segmented_part1/1sec_segmen...      happy"
            ]
          },
          "metadata": {
            "tags": []
          },
          "execution_count": 68
        }
      ]
    },
    {
      "cell_type": "code",
      "metadata": {
        "id": "StLSMALPn8a9",
        "colab_type": "code",
        "colab": {}
      },
      "source": [
        ""
      ],
      "execution_count": 0,
      "outputs": []
    },
    {
      "cell_type": "code",
      "metadata": {
        "id": "M_j8a9Bpg03M",
        "colab_type": "code",
        "outputId": "62642e2e-4fa7-4e33-a318-e3a43a025998",
        "colab": {
          "base_uri": "https://localhost:8080/",
          "height": 68
        }
      },
      "source": [
        "full_data.isna().sum()\n"
      ],
      "execution_count": 0,
      "outputs": [
        {
          "output_type": "execute_result",
          "data": {
            "text/plain": [
              "filePath     0\n",
              "labels      86\n",
              "dtype: int64"
            ]
          },
          "metadata": {
            "tags": []
          },
          "execution_count": 69
        }
      ]
    },
    {
      "cell_type": "code",
      "metadata": {
        "id": "TMwEdDpbhUt0",
        "colab_type": "code",
        "colab": {}
      },
      "source": [
        "full_data.dropna(inplace=True)"
      ],
      "execution_count": 0,
      "outputs": []
    },
    {
      "cell_type": "code",
      "metadata": {
        "id": "m4r58cBDV824",
        "colab_type": "code",
        "colab": {}
      },
      "source": [
        "X=[]\n",
        "for e in full_data[\"filePath\"].values:\n",
        "  features = extract_feature(e, mfcc=True, chroma=True, mel=True)\n",
        "  X.append(features)\n",
        "  "
      ],
      "execution_count": 0,
      "outputs": []
    },
    {
      "cell_type": "code",
      "metadata": {
        "id": "i_IwIDHVcPDV",
        "colab_type": "code",
        "outputId": "07d86758-730a-4a14-b1aa-88bea3de1cd3",
        "colab": {
          "base_uri": "https://localhost:8080/",
          "height": 34
        }
      },
      "source": [
        "X=np.array(X)\n",
        "X.shape"
      ],
      "execution_count": 0,
      "outputs": [
        {
          "output_type": "execute_result",
          "data": {
            "text/plain": [
              "(1334, 180)"
            ]
          },
          "metadata": {
            "tags": []
          },
          "execution_count": 73
        }
      ]
    },
    {
      "cell_type": "code",
      "metadata": {
        "id": "EvBjwlebc0L-",
        "colab_type": "code",
        "colab": {}
      },
      "source": [
        "from sklearn.preprocessing import LabelEncoder"
      ],
      "execution_count": 0,
      "outputs": []
    },
    {
      "cell_type": "code",
      "metadata": {
        "id": "vsE9zK0_c2Jx",
        "colab_type": "code",
        "colab": {}
      },
      "source": [
        "lb=LabelEncoder()\n",
        "labels=lb.fit_transform(full_data[\"labels\"])"
      ],
      "execution_count": 0,
      "outputs": []
    },
    {
      "cell_type": "code",
      "metadata": {
        "id": "-208L6sCdaFa",
        "colab_type": "code",
        "colab": {}
      },
      "source": [
        "X_train, X_test, y_train, y_test=train_test_split(X, labels, test_size=30, random_state=7)"
      ],
      "execution_count": 0,
      "outputs": []
    },
    {
      "cell_type": "code",
      "metadata": {
        "id": "fjOq-x2ed2f3",
        "colab_type": "code",
        "outputId": "286281ea-50d2-4c1c-92c1-a56aea4d8811",
        "colab": {
          "base_uri": "https://localhost:8080/",
          "height": 153
        }
      },
      "source": [
        "model_params = {\n",
        "    'alpha': 0.001,\n",
        "    'batch_size': 256,\n",
        "    'epsilon': 1e-08, \n",
        "    'hidden_layer_sizes': (512, 256, 128), \n",
        "    'learning_rate': 'adaptive', \n",
        "    'max_iter': 500, \n",
        "}\n",
        "\n",
        "model = MLPClassifier(**model_params)\n",
        "model.fit(X_train, y_train)"
      ],
      "execution_count": 0,
      "outputs": [
        {
          "output_type": "execute_result",
          "data": {
            "text/plain": [
              "MLPClassifier(activation='relu', alpha=0.001, batch_size=256, beta_1=0.9,\n",
              "              beta_2=0.999, early_stopping=False, epsilon=1e-08,\n",
              "              hidden_layer_sizes=(512, 256, 128), learning_rate='adaptive',\n",
              "              learning_rate_init=0.001, max_fun=15000, max_iter=500,\n",
              "              momentum=0.9, n_iter_no_change=10, nesterovs_momentum=True,\n",
              "              power_t=0.5, random_state=None, shuffle=True, solver='adam',\n",
              "              tol=0.0001, validation_fraction=0.1, verbose=False,\n",
              "              warm_start=False)"
            ]
          },
          "metadata": {
            "tags": []
          },
          "execution_count": 87
        }
      ]
    },
    {
      "cell_type": "code",
      "metadata": {
        "id": "wXppms2ceDT5",
        "colab_type": "code",
        "colab": {}
      },
      "source": [
        "y_pred = model.predict(X_test)"
      ],
      "execution_count": 0,
      "outputs": []
    },
    {
      "cell_type": "code",
      "metadata": {
        "id": "OMhf48lTWNSM",
        "colab_type": "code",
        "outputId": "14cf6e7e-38a0-48a7-90ed-204a4171d4ba",
        "colab": {
          "base_uri": "https://localhost:8080/",
          "height": 34
        }
      },
      "source": [
        "accuracy = accuracy_score(y_true=y_test, y_pred=y_pred)\n",
        "print(\"Accuracy: {:.2f}%\".format(accuracy*100))"
      ],
      "execution_count": 0,
      "outputs": [
        {
          "output_type": "stream",
          "text": [
            "Accuracy: 96.67%\n"
          ],
          "name": "stdout"
        }
      ]
    }
  ]
}